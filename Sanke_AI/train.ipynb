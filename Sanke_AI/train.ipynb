{
  "cells": [
    {
      "cell_type": "code",
      "execution_count": 28,
      "metadata": {
        "id": "NqE92YW57BI1"
      },
      "outputs": [],
      "source": [
        "import tensorflow as tf\n",
        "import pandas as pd\n",
        "import numpy as np\n",
        "import matplotlib.pyplot as plt\n",
        "from sklearn.model_selection import train_test_split\n",
        "from tensorflow.keras.layers import Dense"
      ]
    },
    {
      "cell_type": "code",
      "execution_count": 29,
      "metadata": {
        "colab": {
          "base_uri": "https://localhost:8080/",
          "height": 206
        },
        "id": "aFXU_2hl7IXK",
        "outputId": "b4e00ef8-1857-4f1c-c273-5b7ad6e7d88d"
      },
      "outputs": [
        {
          "data": {
            "text/html": [
              "<div>\n",
              "<style scoped>\n",
              "    .dataframe tbody tr th:only-of-type {\n",
              "        vertical-align: middle;\n",
              "    }\n",
              "\n",
              "    .dataframe tbody tr th {\n",
              "        vertical-align: top;\n",
              "    }\n",
              "\n",
              "    .dataframe thead th {\n",
              "        text-align: right;\n",
              "    }\n",
              "</style>\n",
              "<table border=\"1\" class=\"dataframe\">\n",
              "  <thead>\n",
              "    <tr style=\"text-align: right;\">\n",
              "      <th></th>\n",
              "      <th>a_up</th>\n",
              "      <th>a_right</th>\n",
              "      <th>a_down</th>\n",
              "      <th>a_left</th>\n",
              "      <th>b_up</th>\n",
              "      <th>b_right</th>\n",
              "      <th>b_down</th>\n",
              "      <th>b_left</th>\n",
              "    </tr>\n",
              "  </thead>\n",
              "  <tbody>\n",
              "    <tr>\n",
              "      <th>0</th>\n",
              "      <td>0.0</td>\n",
              "      <td>0.0</td>\n",
              "      <td>0.0</td>\n",
              "      <td>0.0</td>\n",
              "      <td>0.0</td>\n",
              "      <td>0.0</td>\n",
              "      <td>0.0</td>\n",
              "      <td>0.0</td>\n",
              "    </tr>\n",
              "    <tr>\n",
              "      <th>1</th>\n",
              "      <td>0.0</td>\n",
              "      <td>0.0</td>\n",
              "      <td>0.0</td>\n",
              "      <td>0.0</td>\n",
              "      <td>0.0</td>\n",
              "      <td>0.0</td>\n",
              "      <td>0.0</td>\n",
              "      <td>0.0</td>\n",
              "    </tr>\n",
              "    <tr>\n",
              "      <th>2</th>\n",
              "      <td>0.0</td>\n",
              "      <td>0.0</td>\n",
              "      <td>0.0</td>\n",
              "      <td>0.0</td>\n",
              "      <td>0.0</td>\n",
              "      <td>0.0</td>\n",
              "      <td>0.0</td>\n",
              "      <td>0.0</td>\n",
              "    </tr>\n",
              "    <tr>\n",
              "      <th>3</th>\n",
              "      <td>0.0</td>\n",
              "      <td>0.0</td>\n",
              "      <td>0.0</td>\n",
              "      <td>0.0</td>\n",
              "      <td>0.0</td>\n",
              "      <td>0.0</td>\n",
              "      <td>0.0</td>\n",
              "      <td>0.0</td>\n",
              "    </tr>\n",
              "    <tr>\n",
              "      <th>4</th>\n",
              "      <td>0.0</td>\n",
              "      <td>0.0</td>\n",
              "      <td>0.0</td>\n",
              "      <td>0.0</td>\n",
              "      <td>0.0</td>\n",
              "      <td>0.0</td>\n",
              "      <td>0.0</td>\n",
              "      <td>0.0</td>\n",
              "    </tr>\n",
              "  </tbody>\n",
              "</table>\n",
              "</div>"
            ],
            "text/plain": [
              "   a_up  a_right  a_down  a_left  b_up  b_right  b_down  b_left\n",
              "0   0.0      0.0     0.0     0.0   0.0      0.0     0.0     0.0\n",
              "1   0.0      0.0     0.0     0.0   0.0      0.0     0.0     0.0\n",
              "2   0.0      0.0     0.0     0.0   0.0      0.0     0.0     0.0\n",
              "3   0.0      0.0     0.0     0.0   0.0      0.0     0.0     0.0\n",
              "4   0.0      0.0     0.0     0.0   0.0      0.0     0.0     0.0"
            ]
          },
          "execution_count": 29,
          "metadata": {},
          "output_type": "execute_result"
        }
      ],
      "source": [
        "data = pd.read_csv('Dataset/Dataset.csv')\n",
        "data.head()"
      ]
    },
    {
      "cell_type": "code",
      "execution_count": 30,
      "metadata": {
        "colab": {
          "base_uri": "https://localhost:8080/",
          "height": 206
        },
        "id": "T74lprWa7XTH",
        "outputId": "abb04587-205c-4c1a-df5f-a2edb0e2d716"
      },
      "outputs": [
        {
          "data": {
            "text/html": [
              "<div>\n",
              "<style scoped>\n",
              "    .dataframe tbody tr th:only-of-type {\n",
              "        vertical-align: middle;\n",
              "    }\n",
              "\n",
              "    .dataframe tbody tr th {\n",
              "        vertical-align: top;\n",
              "    }\n",
              "\n",
              "    .dataframe thead th {\n",
              "        text-align: right;\n",
              "    }\n",
              "</style>\n",
              "<table border=\"1\" class=\"dataframe\">\n",
              "  <thead>\n",
              "    <tr style=\"text-align: right;\">\n",
              "      <th></th>\n",
              "      <th>direction</th>\n",
              "    </tr>\n",
              "  </thead>\n",
              "  <tbody>\n",
              "    <tr>\n",
              "      <th>0</th>\n",
              "      <td>1</td>\n",
              "    </tr>\n",
              "    <tr>\n",
              "      <th>1</th>\n",
              "      <td>1</td>\n",
              "    </tr>\n",
              "    <tr>\n",
              "      <th>2</th>\n",
              "      <td>1</td>\n",
              "    </tr>\n",
              "    <tr>\n",
              "      <th>3</th>\n",
              "      <td>1</td>\n",
              "    </tr>\n",
              "    <tr>\n",
              "      <th>4</th>\n",
              "      <td>1</td>\n",
              "    </tr>\n",
              "  </tbody>\n",
              "</table>\n",
              "</div>"
            ],
            "text/plain": [
              "   direction\n",
              "0          1\n",
              "1          1\n",
              "2          1\n",
              "3          1\n",
              "4          1"
            ]
          },
          "execution_count": 30,
          "metadata": {},
          "output_type": "execute_result"
        }
      ],
      "source": [
        "data_target = pd.read_csv('Dataset/Labels.csv')\n",
        "data_target.head()"
      ]
    },
    {
      "cell_type": "code",
      "execution_count": 33,
      "metadata": {
        "colab": {
          "base_uri": "https://localhost:8080/",
          "height": 206
        },
        "id": "8Y-naCqc7XNm",
        "outputId": "7c80a136-4580-4515-854c-f69293cf5bce"
      },
      "outputs": [
        {
          "data": {
            "text/html": [
              "<div>\n",
              "<style scoped>\n",
              "    .dataframe tbody tr th:only-of-type {\n",
              "        vertical-align: middle;\n",
              "    }\n",
              "\n",
              "    .dataframe tbody tr th {\n",
              "        vertical-align: top;\n",
              "    }\n",
              "\n",
              "    .dataframe thead th {\n",
              "        text-align: right;\n",
              "    }\n",
              "</style>\n",
              "<table border=\"1\" class=\"dataframe\">\n",
              "  <thead>\n",
              "    <tr style=\"text-align: right;\">\n",
              "      <th></th>\n",
              "      <th>a_up</th>\n",
              "      <th>a_right</th>\n",
              "      <th>a_down</th>\n",
              "      <th>a_left</th>\n",
              "      <th>b_up</th>\n",
              "      <th>b_right</th>\n",
              "      <th>b_down</th>\n",
              "      <th>b_left</th>\n",
              "      <th>direction</th>\n",
              "    </tr>\n",
              "  </thead>\n",
              "  <tbody>\n",
              "    <tr>\n",
              "      <th>0</th>\n",
              "      <td>0.0</td>\n",
              "      <td>0.0</td>\n",
              "      <td>0.0</td>\n",
              "      <td>0.0</td>\n",
              "      <td>0.0</td>\n",
              "      <td>0.0</td>\n",
              "      <td>0.0</td>\n",
              "      <td>0.0</td>\n",
              "      <td>1</td>\n",
              "    </tr>\n",
              "    <tr>\n",
              "      <th>1</th>\n",
              "      <td>0.0</td>\n",
              "      <td>0.0</td>\n",
              "      <td>0.0</td>\n",
              "      <td>0.0</td>\n",
              "      <td>0.0</td>\n",
              "      <td>0.0</td>\n",
              "      <td>0.0</td>\n",
              "      <td>0.0</td>\n",
              "      <td>1</td>\n",
              "    </tr>\n",
              "    <tr>\n",
              "      <th>2</th>\n",
              "      <td>0.0</td>\n",
              "      <td>0.0</td>\n",
              "      <td>0.0</td>\n",
              "      <td>0.0</td>\n",
              "      <td>0.0</td>\n",
              "      <td>0.0</td>\n",
              "      <td>0.0</td>\n",
              "      <td>0.0</td>\n",
              "      <td>1</td>\n",
              "    </tr>\n",
              "    <tr>\n",
              "      <th>3</th>\n",
              "      <td>0.0</td>\n",
              "      <td>0.0</td>\n",
              "      <td>0.0</td>\n",
              "      <td>0.0</td>\n",
              "      <td>0.0</td>\n",
              "      <td>0.0</td>\n",
              "      <td>0.0</td>\n",
              "      <td>0.0</td>\n",
              "      <td>1</td>\n",
              "    </tr>\n",
              "    <tr>\n",
              "      <th>4</th>\n",
              "      <td>0.0</td>\n",
              "      <td>0.0</td>\n",
              "      <td>0.0</td>\n",
              "      <td>0.0</td>\n",
              "      <td>0.0</td>\n",
              "      <td>0.0</td>\n",
              "      <td>0.0</td>\n",
              "      <td>0.0</td>\n",
              "      <td>1</td>\n",
              "    </tr>\n",
              "  </tbody>\n",
              "</table>\n",
              "</div>"
            ],
            "text/plain": [
              "   a_up  a_right  a_down  a_left  b_up  b_right  b_down  b_left  direction\n",
              "0   0.0      0.0     0.0     0.0   0.0      0.0     0.0     0.0          1\n",
              "1   0.0      0.0     0.0     0.0   0.0      0.0     0.0     0.0          1\n",
              "2   0.0      0.0     0.0     0.0   0.0      0.0     0.0     0.0          1\n",
              "3   0.0      0.0     0.0     0.0   0.0      0.0     0.0     0.0          1\n",
              "4   0.0      0.0     0.0     0.0   0.0      0.0     0.0     0.0          1"
            ]
          },
          "execution_count": 33,
          "metadata": {},
          "output_type": "execute_result"
        }
      ],
      "source": [
        "df = pd.concat([data, data_target],axis=1)\n",
        "\n",
        "df.head()"
      ]
    },
    {
      "cell_type": "code",
      "execution_count": 34,
      "metadata": {
        "id": "2-wuQrnZ7bVZ"
      },
      "outputs": [],
      "source": [
        "df.isnull().sum()\n",
        "df.dropna(inplace=True)"
      ]
    },
    {
      "cell_type": "code",
      "execution_count": 35,
      "metadata": {
        "colab": {
          "base_uri": "https://localhost:8080/"
        },
        "id": "I5iZ09NM7bR6",
        "outputId": "98202c5b-1df7-4148-d9d3-ec3980e63902"
      },
      "outputs": [
        {
          "data": {
            "text/plain": [
              "((6937, 8), (6937, 1))"
            ]
          },
          "execution_count": 35,
          "metadata": {},
          "output_type": "execute_result"
        }
      ],
      "source": [
        "X = np.array(df.loc[:,df.columns!='direction'])\n",
        "Y = np.array(df['direction'])\n",
        "\n",
        "Y = Y.reshape(-1,1)\n",
        "\n",
        "X.shape,Y.shape"
      ]
    },
    {
      "cell_type": "code",
      "execution_count": 61,
      "metadata": {
        "colab": {
          "base_uri": "https://localhost:8080/"
        },
        "id": "0vdB_2S_7iWT",
        "outputId": "9dc9231d-7c38-44d1-f645-a2fdaef6940e"
      },
      "outputs": [
        {
          "name": "stdout",
          "output_type": "stream",
          "text": [
            "(5202, 8)\n",
            "(5202, 1)\n",
            "(1735, 8)\n",
            "(1735, 1)\n"
          ]
        }
      ],
      "source": [
        "X_train,X_test,Y_train,Y_test = train_test_split(X,Y,shuffle=True)\n",
        "\n",
        "print(X_train.shape)\n",
        "print(Y_train.shape)\n",
        "print(X_test.shape)\n",
        "print(Y_test.shape)"
      ]
    },
    {
      "cell_type": "code",
      "execution_count": 62,
      "metadata": {
        "id": "WQPkJBi07ibp"
      },
      "outputs": [],
      "source": [
        "model = tf.keras.models.Sequential([\n",
        "    Dense(8,input_dim=8,activation=\"relu\"),\n",
        "    Dense(16,activation=\"relu\"),\n",
        "    Dense(128,activation=\"relu\"),\n",
        "    Dense(4,activation=\"softmax\")\n",
        "])\n",
        "\n",
        "model.compile(optimizer=tf.keras.optimizers.Adam(),\n",
        "              loss='sparse_categorical_crossentropy',\n",
        "              metrics=['accuracy'])"
      ]
    },
    {
      "cell_type": "code",
      "execution_count": 63,
      "metadata": {
        "colab": {
          "base_uri": "https://localhost:8080/"
        },
        "id": "mvUWdYAb7oqD",
        "outputId": "8778a9a0-102c-45c6-ed66-3df010ec6fda"
      },
      "outputs": [
        {
          "name": "stdout",
          "output_type": "stream",
          "text": [
            "Epoch 1/150\n"
          ]
        },
        {
          "name": "stdout",
          "output_type": "stream",
          "text": [
            "163/163 [==============================] - 1s 1ms/step - loss: 0.5872 - accuracy: 0.9179\n",
            "Epoch 2/150\n",
            "163/163 [==============================] - 0s 1ms/step - loss: 0.0828 - accuracy: 0.9831\n",
            "Epoch 3/150\n",
            "163/163 [==============================] - 0s 1ms/step - loss: 0.0697 - accuracy: 0.9850\n",
            "Epoch 4/150\n",
            "163/163 [==============================] - 0s 1ms/step - loss: 0.0645 - accuracy: 0.9887\n",
            "Epoch 5/150\n",
            "163/163 [==============================] - 0s 1ms/step - loss: 0.0623 - accuracy: 0.9890\n",
            "Epoch 6/150\n",
            "163/163 [==============================] - 0s 1ms/step - loss: 0.0608 - accuracy: 0.9890\n",
            "Epoch 7/150\n",
            "163/163 [==============================] - 0s 2ms/step - loss: 0.0600 - accuracy: 0.9890\n",
            "Epoch 8/150\n",
            "163/163 [==============================] - 0s 1ms/step - loss: 0.0598 - accuracy: 0.9890\n",
            "Epoch 9/150\n",
            "163/163 [==============================] - 0s 1ms/step - loss: 0.0587 - accuracy: 0.9890\n",
            "Epoch 10/150\n",
            "163/163 [==============================] - 0s 1ms/step - loss: 0.0598 - accuracy: 0.9890\n",
            "Epoch 11/150\n",
            "163/163 [==============================] - 0s 1ms/step - loss: 0.0587 - accuracy: 0.9890\n",
            "Epoch 12/150\n",
            "163/163 [==============================] - 0s 1ms/step - loss: 0.0584 - accuracy: 0.9890\n",
            "Epoch 13/150\n",
            "163/163 [==============================] - 0s 2ms/step - loss: 0.0583 - accuracy: 0.9890\n",
            "Epoch 14/150\n",
            "163/163 [==============================] - 0s 1ms/step - loss: 0.0583 - accuracy: 0.9890\n",
            "Epoch 15/150\n",
            "163/163 [==============================] - 0s 1ms/step - loss: 0.0584 - accuracy: 0.9890\n",
            "Epoch 16/150\n",
            "163/163 [==============================] - 0s 1ms/step - loss: 0.0580 - accuracy: 0.9890\n",
            "Epoch 17/150\n",
            "163/163 [==============================] - 0s 1ms/step - loss: 0.0585 - accuracy: 0.9890\n",
            "Epoch 18/150\n",
            "163/163 [==============================] - 0s 1ms/step - loss: 0.0585 - accuracy: 0.9890\n",
            "Epoch 19/150\n",
            "163/163 [==============================] - 0s 1ms/step - loss: 0.0582 - accuracy: 0.9890\n",
            "Epoch 20/150\n",
            "163/163 [==============================] - 0s 1ms/step - loss: 0.0585 - accuracy: 0.9890\n",
            "Epoch 21/150\n",
            "163/163 [==============================] - 0s 1ms/step - loss: 0.0581 - accuracy: 0.9890\n",
            "Epoch 22/150\n",
            "163/163 [==============================] - 0s 1ms/step - loss: 0.0578 - accuracy: 0.9890\n",
            "Epoch 23/150\n",
            "163/163 [==============================] - 0s 1ms/step - loss: 0.0572 - accuracy: 0.9890\n",
            "Epoch 24/150\n",
            "163/163 [==============================] - 0s 1ms/step - loss: 0.0590 - accuracy: 0.9890\n",
            "Epoch 25/150\n",
            "163/163 [==============================] - 0s 1ms/step - loss: 0.0581 - accuracy: 0.9890\n",
            "Epoch 26/150\n",
            "163/163 [==============================] - 0s 1ms/step - loss: 0.0581 - accuracy: 0.9890\n",
            "Epoch 27/150\n",
            "163/163 [==============================] - 0s 1ms/step - loss: 0.0581 - accuracy: 0.9890\n",
            "Epoch 28/150\n",
            "163/163 [==============================] - 0s 1ms/step - loss: 0.0583 - accuracy: 0.9890\n",
            "Epoch 29/150\n",
            "163/163 [==============================] - 0s 1ms/step - loss: 0.0586 - accuracy: 0.9890\n",
            "Epoch 30/150\n",
            "163/163 [==============================] - 0s 1ms/step - loss: 0.0577 - accuracy: 0.9890\n",
            "Epoch 31/150\n",
            "163/163 [==============================] - 0s 1ms/step - loss: 0.0585 - accuracy: 0.9890\n",
            "Epoch 32/150\n",
            "163/163 [==============================] - 0s 1ms/step - loss: 0.0580 - accuracy: 0.9890\n",
            "Epoch 33/150\n",
            "163/163 [==============================] - 0s 1ms/step - loss: 0.0576 - accuracy: 0.9890\n",
            "Epoch 34/150\n",
            "163/163 [==============================] - 0s 1ms/step - loss: 0.0579 - accuracy: 0.9890\n",
            "Epoch 35/150\n",
            "163/163 [==============================] - 0s 1ms/step - loss: 0.0577 - accuracy: 0.9890\n",
            "Epoch 36/150\n",
            "163/163 [==============================] - 0s 1ms/step - loss: 0.0581 - accuracy: 0.9890\n",
            "Epoch 37/150\n",
            "163/163 [==============================] - 0s 1ms/step - loss: 0.0582 - accuracy: 0.9890\n",
            "Epoch 38/150\n",
            "163/163 [==============================] - 0s 1ms/step - loss: 0.0576 - accuracy: 0.9890\n",
            "Epoch 39/150\n",
            "163/163 [==============================] - 0s 1ms/step - loss: 0.0580 - accuracy: 0.9890\n",
            "Epoch 40/150\n",
            "163/163 [==============================] - 0s 1ms/step - loss: 0.0580 - accuracy: 0.9890\n",
            "Epoch 41/150\n",
            "163/163 [==============================] - 0s 1ms/step - loss: 0.0583 - accuracy: 0.9890\n",
            "Epoch 42/150\n",
            "163/163 [==============================] - 0s 1ms/step - loss: 0.0585 - accuracy: 0.9890\n",
            "Epoch 43/150\n",
            "163/163 [==============================] - 0s 1ms/step - loss: 0.0578 - accuracy: 0.9890\n",
            "Epoch 44/150\n",
            "163/163 [==============================] - 0s 1ms/step - loss: 0.0576 - accuracy: 0.9890\n",
            "Epoch 45/150\n",
            "163/163 [==============================] - 0s 1ms/step - loss: 0.0575 - accuracy: 0.9890\n",
            "Epoch 46/150\n",
            "163/163 [==============================] - 0s 1ms/step - loss: 0.0583 - accuracy: 0.9890\n",
            "Epoch 47/150\n",
            "163/163 [==============================] - 0s 1ms/step - loss: 0.0573 - accuracy: 0.9890\n",
            "Epoch 48/150\n",
            "163/163 [==============================] - 0s 1ms/step - loss: 0.0578 - accuracy: 0.9890\n",
            "Epoch 49/150\n",
            "163/163 [==============================] - 0s 1ms/step - loss: 0.0585 - accuracy: 0.9890\n",
            "Epoch 50/150\n",
            "163/163 [==============================] - 0s 1ms/step - loss: 0.0578 - accuracy: 0.9890\n",
            "Epoch 51/150\n",
            "163/163 [==============================] - 0s 1ms/step - loss: 0.0582 - accuracy: 0.9890\n",
            "Epoch 52/150\n",
            "163/163 [==============================] - 0s 1ms/step - loss: 0.0577 - accuracy: 0.9890\n",
            "Epoch 53/150\n",
            "163/163 [==============================] - 0s 1ms/step - loss: 0.0574 - accuracy: 0.9890\n",
            "Epoch 54/150\n",
            "163/163 [==============================] - 0s 1ms/step - loss: 0.0579 - accuracy: 0.9890\n",
            "Epoch 55/150\n",
            "163/163 [==============================] - 0s 1ms/step - loss: 0.0574 - accuracy: 0.9890\n",
            "Epoch 56/150\n",
            "163/163 [==============================] - 0s 1ms/step - loss: 0.0577 - accuracy: 0.9890\n",
            "Epoch 57/150\n",
            "163/163 [==============================] - 0s 1ms/step - loss: 0.0579 - accuracy: 0.9890\n",
            "Epoch 58/150\n",
            "163/163 [==============================] - 0s 1ms/step - loss: 0.0572 - accuracy: 0.9890\n",
            "Epoch 59/150\n",
            "163/163 [==============================] - 0s 1ms/step - loss: 0.0581 - accuracy: 0.9890\n",
            "Epoch 60/150\n",
            "163/163 [==============================] - 0s 1ms/step - loss: 0.0575 - accuracy: 0.9890\n",
            "Epoch 61/150\n",
            "163/163 [==============================] - 0s 1ms/step - loss: 0.0575 - accuracy: 0.9890\n",
            "Epoch 62/150\n",
            "163/163 [==============================] - 0s 1ms/step - loss: 0.0575 - accuracy: 0.9890\n",
            "Epoch 63/150\n",
            "163/163 [==============================] - 0s 1ms/step - loss: 0.0576 - accuracy: 0.9890\n",
            "Epoch 64/150\n",
            "163/163 [==============================] - 0s 1ms/step - loss: 0.0578 - accuracy: 0.9890\n",
            "Epoch 65/150\n",
            "163/163 [==============================] - 0s 1ms/step - loss: 0.0574 - accuracy: 0.9890\n",
            "Epoch 66/150\n",
            "163/163 [==============================] - 0s 1ms/step - loss: 0.0576 - accuracy: 0.9890\n",
            "Epoch 67/150\n",
            "163/163 [==============================] - 0s 1ms/step - loss: 0.0578 - accuracy: 0.9890\n",
            "Epoch 68/150\n",
            "163/163 [==============================] - 0s 1ms/step - loss: 0.0577 - accuracy: 0.9890\n",
            "Epoch 69/150\n",
            "163/163 [==============================] - 0s 1ms/step - loss: 0.0576 - accuracy: 0.9890\n",
            "Epoch 70/150\n",
            "163/163 [==============================] - 0s 1ms/step - loss: 0.0577 - accuracy: 0.9890\n",
            "Epoch 71/150\n",
            "163/163 [==============================] - 0s 1ms/step - loss: 0.0578 - accuracy: 0.9890\n",
            "Epoch 72/150\n",
            "163/163 [==============================] - 0s 1ms/step - loss: 0.0571 - accuracy: 0.9890\n",
            "Epoch 73/150\n",
            "163/163 [==============================] - 0s 2ms/step - loss: 0.0578 - accuracy: 0.9890\n",
            "Epoch 74/150\n",
            "163/163 [==============================] - 0s 1ms/step - loss: 0.0574 - accuracy: 0.9890\n",
            "Epoch 75/150\n",
            "163/163 [==============================] - 0s 1ms/step - loss: 0.0578 - accuracy: 0.9890\n",
            "Epoch 76/150\n",
            "163/163 [==============================] - 0s 1ms/step - loss: 0.0573 - accuracy: 0.9890\n",
            "Epoch 77/150\n",
            "163/163 [==============================] - 0s 1ms/step - loss: 0.0574 - accuracy: 0.9890\n",
            "Epoch 78/150\n",
            "163/163 [==============================] - 0s 1ms/step - loss: 0.0575 - accuracy: 0.9890\n",
            "Epoch 79/150\n",
            "163/163 [==============================] - 0s 1ms/step - loss: 0.0575 - accuracy: 0.9890\n",
            "Epoch 80/150\n",
            "163/163 [==============================] - 0s 1ms/step - loss: 0.0582 - accuracy: 0.9890\n",
            "Epoch 81/150\n",
            "163/163 [==============================] - 0s 1ms/step - loss: 0.0575 - accuracy: 0.9890\n",
            "Epoch 82/150\n",
            "163/163 [==============================] - 0s 1ms/step - loss: 0.0571 - accuracy: 0.9890\n",
            "Epoch 83/150\n",
            "163/163 [==============================] - 0s 1ms/step - loss: 0.0572 - accuracy: 0.9890\n",
            "Epoch 84/150\n",
            "163/163 [==============================] - 0s 1ms/step - loss: 0.0574 - accuracy: 0.9890\n",
            "Epoch 85/150\n",
            "163/163 [==============================] - 0s 1ms/step - loss: 0.0575 - accuracy: 0.9890\n",
            "Epoch 86/150\n",
            "163/163 [==============================] - 0s 1ms/step - loss: 0.0581 - accuracy: 0.9890\n",
            "Epoch 87/150\n",
            "163/163 [==============================] - 0s 1ms/step - loss: 0.0584 - accuracy: 0.9890\n",
            "Epoch 88/150\n",
            "163/163 [==============================] - 0s 1ms/step - loss: 0.0574 - accuracy: 0.9890\n",
            "Epoch 89/150\n",
            "163/163 [==============================] - 0s 1ms/step - loss: 0.0578 - accuracy: 0.9890\n",
            "Epoch 90/150\n",
            "163/163 [==============================] - 0s 1ms/step - loss: 0.0576 - accuracy: 0.9890\n",
            "Epoch 91/150\n",
            "163/163 [==============================] - 0s 1ms/step - loss: 0.0576 - accuracy: 0.9890\n",
            "Epoch 92/150\n",
            "163/163 [==============================] - 0s 1ms/step - loss: 0.0576 - accuracy: 0.9890\n",
            "Epoch 93/150\n",
            "163/163 [==============================] - 0s 1ms/step - loss: 0.0576 - accuracy: 0.9890\n",
            "Epoch 94/150\n",
            "163/163 [==============================] - 0s 1ms/step - loss: 0.0574 - accuracy: 0.9890\n",
            "Epoch 95/150\n",
            "163/163 [==============================] - 0s 1ms/step - loss: 0.0580 - accuracy: 0.9890\n",
            "Epoch 96/150\n",
            "163/163 [==============================] - 0s 2ms/step - loss: 0.0573 - accuracy: 0.9890\n",
            "Epoch 97/150\n",
            "163/163 [==============================] - 0s 1ms/step - loss: 0.0578 - accuracy: 0.9890\n",
            "Epoch 98/150\n",
            "163/163 [==============================] - 0s 1ms/step - loss: 0.0578 - accuracy: 0.9890\n",
            "Epoch 99/150\n",
            "163/163 [==============================] - 0s 1ms/step - loss: 0.0576 - accuracy: 0.9890\n",
            "Epoch 100/150\n",
            "163/163 [==============================] - 0s 1ms/step - loss: 0.0576 - accuracy: 0.9890\n",
            "Epoch 101/150\n",
            "163/163 [==============================] - 0s 1ms/step - loss: 0.0575 - accuracy: 0.9890\n",
            "Epoch 102/150\n",
            "163/163 [==============================] - 0s 1ms/step - loss: 0.0576 - accuracy: 0.9890\n",
            "Epoch 103/150\n",
            "163/163 [==============================] - 0s 1ms/step - loss: 0.0576 - accuracy: 0.9890\n",
            "Epoch 104/150\n",
            "163/163 [==============================] - 0s 1ms/step - loss: 0.0577 - accuracy: 0.9890\n",
            "Epoch 105/150\n",
            "163/163 [==============================] - 0s 1ms/step - loss: 0.0573 - accuracy: 0.9890\n",
            "Epoch 106/150\n",
            "163/163 [==============================] - 0s 1ms/step - loss: 0.0576 - accuracy: 0.9890\n",
            "Epoch 107/150\n",
            "163/163 [==============================] - 0s 1ms/step - loss: 0.0577 - accuracy: 0.9890\n",
            "Epoch 108/150\n",
            "163/163 [==============================] - 0s 1ms/step - loss: 0.0574 - accuracy: 0.9890\n",
            "Epoch 109/150\n",
            "163/163 [==============================] - 0s 1ms/step - loss: 0.0574 - accuracy: 0.9890\n",
            "Epoch 110/150\n",
            "163/163 [==============================] - 0s 1ms/step - loss: 0.0575 - accuracy: 0.9890\n",
            "Epoch 111/150\n",
            "163/163 [==============================] - 0s 1ms/step - loss: 0.0577 - accuracy: 0.9890\n",
            "Epoch 112/150\n",
            "163/163 [==============================] - 0s 1ms/step - loss: 0.0573 - accuracy: 0.9890\n",
            "Epoch 113/150\n",
            "163/163 [==============================] - 0s 1ms/step - loss: 0.0575 - accuracy: 0.9890\n",
            "Epoch 114/150\n",
            "163/163 [==============================] - 0s 1ms/step - loss: 0.0577 - accuracy: 0.9890\n",
            "Epoch 115/150\n",
            "163/163 [==============================] - 0s 1ms/step - loss: 0.0572 - accuracy: 0.9890\n",
            "Epoch 116/150\n",
            "163/163 [==============================] - 0s 1ms/step - loss: 0.0574 - accuracy: 0.9890\n",
            "Epoch 117/150\n",
            "163/163 [==============================] - 0s 2ms/step - loss: 0.0575 - accuracy: 0.9890\n",
            "Epoch 118/150\n",
            "163/163 [==============================] - 0s 1ms/step - loss: 0.0575 - accuracy: 0.9890\n",
            "Epoch 119/150\n",
            "163/163 [==============================] - 0s 2ms/step - loss: 0.0571 - accuracy: 0.9890\n",
            "Epoch 120/150\n",
            "163/163 [==============================] - 0s 1ms/step - loss: 0.0574 - accuracy: 0.9890\n",
            "Epoch 121/150\n",
            "163/163 [==============================] - 0s 1ms/step - loss: 0.0573 - accuracy: 0.9890\n",
            "Epoch 122/150\n",
            "163/163 [==============================] - 0s 1ms/step - loss: 0.0575 - accuracy: 0.9890\n",
            "Epoch 123/150\n",
            "163/163 [==============================] - 0s 1ms/step - loss: 0.0573 - accuracy: 0.9890\n",
            "Epoch 124/150\n",
            "163/163 [==============================] - 0s 1ms/step - loss: 0.0577 - accuracy: 0.9890\n",
            "Epoch 125/150\n",
            "163/163 [==============================] - 0s 1ms/step - loss: 0.0573 - accuracy: 0.9890\n",
            "Epoch 126/150\n",
            "163/163 [==============================] - 0s 1ms/step - loss: 0.0575 - accuracy: 0.9890\n",
            "Epoch 127/150\n",
            "163/163 [==============================] - 0s 1ms/step - loss: 0.0574 - accuracy: 0.9890\n",
            "Epoch 128/150\n",
            "163/163 [==============================] - 0s 1ms/step - loss: 0.0575 - accuracy: 0.9890\n",
            "Epoch 129/150\n",
            "163/163 [==============================] - 0s 1ms/step - loss: 0.0577 - accuracy: 0.9890\n",
            "Epoch 130/150\n",
            "163/163 [==============================] - 0s 1ms/step - loss: 0.0575 - accuracy: 0.9890\n",
            "Epoch 131/150\n",
            "163/163 [==============================] - 0s 1ms/step - loss: 0.0574 - accuracy: 0.9890\n",
            "Epoch 132/150\n",
            "163/163 [==============================] - 0s 1ms/step - loss: 0.0573 - accuracy: 0.9890\n",
            "Epoch 133/150\n",
            "163/163 [==============================] - 0s 1ms/step - loss: 0.0578 - accuracy: 0.9890\n",
            "Epoch 134/150\n",
            "163/163 [==============================] - 0s 1ms/step - loss: 0.0572 - accuracy: 0.9890\n",
            "Epoch 135/150\n",
            "163/163 [==============================] - 0s 1ms/step - loss: 0.0577 - accuracy: 0.9890\n",
            "Epoch 136/150\n",
            "163/163 [==============================] - 0s 2ms/step - loss: 0.0577 - accuracy: 0.9890\n",
            "Epoch 137/150\n",
            "163/163 [==============================] - 0s 1ms/step - loss: 0.0573 - accuracy: 0.9890\n",
            "Epoch 138/150\n",
            "163/163 [==============================] - 0s 1ms/step - loss: 0.0573 - accuracy: 0.9890\n",
            "Epoch 139/150\n",
            "163/163 [==============================] - 0s 1ms/step - loss: 0.0577 - accuracy: 0.9890\n",
            "Epoch 140/150\n",
            "163/163 [==============================] - 0s 1ms/step - loss: 0.0573 - accuracy: 0.9890\n",
            "Epoch 141/150\n",
            "163/163 [==============================] - 0s 1ms/step - loss: 0.0574 - accuracy: 0.9890\n",
            "Epoch 142/150\n",
            "163/163 [==============================] - 0s 1ms/step - loss: 0.0575 - accuracy: 0.9890\n",
            "Epoch 143/150\n",
            "163/163 [==============================] - 0s 3ms/step - loss: 0.0572 - accuracy: 0.9890\n",
            "Epoch 144/150\n",
            "163/163 [==============================] - 0s 2ms/step - loss: 0.0575 - accuracy: 0.9890\n",
            "Epoch 145/150\n",
            "163/163 [==============================] - 0s 1ms/step - loss: 0.0572 - accuracy: 0.9890\n",
            "Epoch 146/150\n",
            "163/163 [==============================] - 0s 1ms/step - loss: 0.0572 - accuracy: 0.9890\n",
            "Epoch 147/150\n",
            "163/163 [==============================] - 0s 1ms/step - loss: 0.0572 - accuracy: 0.9890\n",
            "Epoch 148/150\n",
            "163/163 [==============================] - 0s 1ms/step - loss: 0.0576 - accuracy: 0.9890\n",
            "Epoch 149/150\n",
            "163/163 [==============================] - 0s 2ms/step - loss: 0.0575 - accuracy: 0.9890\n",
            "Epoch 150/150\n",
            "163/163 [==============================] - 0s 1ms/step - loss: 0.0574 - accuracy: 0.9890\n"
          ]
        }
      ],
      "source": [
        "history = model.fit(X_train, Y_train,epochs=150)"
      ]
    },
    {
      "cell_type": "code",
      "execution_count": 64,
      "metadata": {
        "colab": {
          "base_uri": "https://localhost:8080/"
        },
        "id": "m4ynXmrH8BFq",
        "outputId": "3ece7054-725b-4916-9e12-1f61e5245ca4"
      },
      "outputs": [
        {
          "name": "stdout",
          "output_type": "stream",
          "text": [
            "55/55 [==============================] - 0s 1ms/step - loss: 0.0656 - accuracy: 0.9867\n"
          ]
        },
        {
          "data": {
            "text/plain": [
              "[0.06562560796737671, 0.9867435097694397]"
            ]
          },
          "execution_count": 64,
          "metadata": {},
          "output_type": "execute_result"
        }
      ],
      "source": [
        "model.evaluate(X_test,Y_test)"
      ]
    },
    {
      "cell_type": "code",
      "execution_count": 65,
      "metadata": {
        "colab": {
          "base_uri": "https://localhost:8080/"
        },
        "id": "2I6hcaCtBFE_",
        "outputId": "332d8a2d-383d-4cb8-82ef-910098cb3e02"
      },
      "outputs": [],
      "source": [
        "model.save('model/weight_snake.h5')"
      ]
    },
    {
      "cell_type": "code",
      "execution_count": 66,
      "metadata": {
        "id": "zUoD18SND_UT"
      },
      "outputs": [
        {
          "data": {
            "image/png": "[encoded data removed]",
            "text/plain": [
              "<Figure size 432x288 with 1 Axes>"
            ]
          },
          "metadata": {
            "needs_background": "light"
          },
          "output_type": "display_data"
        }
      ],
      "source": [
        "plt.plot(history.history['loss'])\n",
        "plt.xlabel('Loss')\n",
        "plt.ylabel('epoch')\n",
        "plt.show()"
      ]
    },
    {
      "cell_type": "code",
      "execution_count": 67,
      "metadata": {},
      "outputs": [
        {
          "data": {
            "image/png": "[encoded data removed]",
            "text/plain": [
              "<Figure size 432x288 with 1 Axes>"
            ]
          },
          "metadata": {
            "needs_background": "light"
          },
          "output_type": "display_data"
        }
      ],
      "source": [
        "plt.plot(history.history['accuracy'])\n",
        "plt.xlabel('Accuracy')\n",
        "plt.ylabel('epoch')\n",
        "plt.show()"
      ]
    },
    {
      "cell_type": "code",
      "execution_count": null,
      "metadata": {},
      "outputs": [],
      "source": []
    }
  ],
  "metadata": {
    "colab": {
      "provenance": []
    },
    "kernelspec": {
      "display_name": "Python 3",
      "name": "python3"
    },
    "language_info": {
      "codemirror_mode": {
        "name": "ipython",
        "version": 3
      },
      "file_extension": ".py",
      "mimetype": "text/x-python",
      "name": "python",
      "nbconvert_exporter": "python",
      "pygments_lexer": "ipython3",
      "version": "3.7.9"
    }
  },
  "nbformat": 4,
  "nbformat_minor": 0
}
