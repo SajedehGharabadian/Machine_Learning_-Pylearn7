{
 "cells": [
  {
   "cell_type": "code",
   "execution_count": 6,
   "id": "84da9cee-2e63-4b02-9b51-72d37363fcfc",
   "metadata": {},
   "outputs": [],
   "source": [
    "import cv2\n",
    "import os"
   ]
  },
  {
   "cell_type": "code",
   "execution_count": 7,
   "id": "41efccc8-3edf-439d-80e1-d567097ba333",
   "metadata": {},
   "outputs": [
    {
     "name": "stdout",
     "output_type": "stream",
     "text": [
      "1000 2000\n"
     ]
    }
   ],
   "source": [
    "import os\n",
    "import cv2\n",
    "\n",
    "\n",
    "\n",
    "for i in range(10):\n",
    "    os.makedirs(f'Numbers{i}')\n",
    "image = cv2.imread('mnist.png')\n",
    "\n",
    "rows,cols,channels = image.shape\n",
    "print(rows,cols)\n",
    "\n",
    "k = rows //10\n",
    "\n",
    "\n",
    "counter = 0\n",
    "\n",
    "for i in range(0,rows,k):\n",
    "    target = image[i:i+k,:]\n",
    "    rows1,cols1,channels1 = target.shape\n",
    "\n",
    "    n = rows1 // 5\n",
    "\n",
    "    for i in range(0,rows1,n):\n",
    "        for j in range(0,cols,n):\n",
    "            target1 = target[i:i+n, j:j+n]\n",
    "            cv2.imwrite(f'Numbers_{counter}/number{i}{j}.png',target1)\n",
    "    counter += 1"
   ]
  },
  {
   "cell_type": "code",
   "execution_count": null,
   "id": "6ae5367a-16d9-46f9-a2cf-ce7c4e7775aa",
   "metadata": {},
   "outputs": [],
   "source": []
  }
 ],
 "metadata": {
  "kernelspec": {
   "display_name": "Python 3 (ipykernel)",
   "language": "python",
   "name": "python3"
  },
  "language_info": {
   "codemirror_mode": {
    "name": "ipython",
    "version": 3
   },
   "file_extension": ".py",
   "mimetype": "text/x-python",
   "name": "python",
   "nbconvert_exporter": "python",
   "pygments_lexer": "ipython3",
   "version": "3.7.9"
  }
 },
 "nbformat": 4,
 "nbformat_minor": 5
}
